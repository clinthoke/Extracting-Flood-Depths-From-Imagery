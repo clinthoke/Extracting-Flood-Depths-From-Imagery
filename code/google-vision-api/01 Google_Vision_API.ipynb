{
 "cells": [
  {
   "cell_type": "code",
   "execution_count": 1,
   "metadata": {},
   "outputs": [],
   "source": [
    "# Import packages to run API, list google api key \n",
    "import io, os, sys, requests, pandas, threading, csv, time\n",
    "os.environ[\"GOOGLE_APPLICATION_CREDENTIALS\"] = # Google API key goes here \n",
    "from PIL import Image\n",
    "import numpy as np"
   ]
  },
  {
   "cell_type": "code",
   "execution_count": 2,
   "metadata": {},
   "outputs": [],
   "source": [
    "# pip install google-cloud-vision"
   ]
  },
  {
   "cell_type": "code",
   "execution_count": 3,
   "metadata": {},
   "outputs": [],
   "source": [
    "# Import the Google Cloud client library\n",
    "from google.cloud import vision\n",
    "from google.cloud.vision import types"
   ]
  },
  {
   "cell_type": "code",
   "execution_count": 4,
   "metadata": {},
   "outputs": [
    {
     "name": "stdout",
     "output_type": "stream",
     "text": [
      "45 files found\n",
      "5 of 45 processed\n",
      "Sleeping\n",
      "10 of 45 processed\n",
      "Sleeping\n",
      "15 of 45 processed\n",
      "Sleeping\n",
      "20 of 45 processed\n",
      "Sleeping\n",
      "25 of 45 processed\n",
      "Sleeping\n",
      "30 of 45 processed\n",
      "Sleeping\n",
      "35 of 45 processed\n",
      "Sleeping\n",
      "40 of 45 processed\n",
      "Sleeping\n",
      "45 of 45 processed\n",
      "Sleeping\n"
     ]
    }
   ],
   "source": [
    "# Imports pictures from Images folder and exports relavant lebelf found on the pictures to labels.csv\n",
    "# ---------------------------------\n",
    "im_dir = \"images/\"\n",
    "out_dir = \"output/\"\n",
    "label_out_name = \"labels.csv\"\n",
    "sleep_time = 5 #seconds\n",
    "num_threads = 5\n",
    "# ---------------------------------\n",
    "\n",
    "# Create the output directory\n",
    "if not os.path.exists(out_dir):\n",
    "    os.makedirs(out_dir)\n",
    "\n",
    "# Instantiates a client\n",
    "client = vision.ImageAnnotatorClient()\n",
    "\n",
    "# Keep the first 5 results\n",
    "num_of_results = 5\n",
    "\n",
    "def process_request(index, file_name, label_results):\n",
    "\n",
    "    label_row = [index, file_name, \" \", \" \", \" \", \" \", \" \", \" \", \" \", \" \", \" \", \" \"]\n",
    "\n",
    "    # Read image content\n",
    "    with io.open(im_dir + file_name, 'rb') as image_file:\n",
    "        content = image_file.read()\n",
    "\n",
    "    # Convert image to Google Vision image\n",
    "    image = vision.types.Image(content=content)\n",
    "\n",
    "    # Performs label detection on the image file\n",
    "    response = client.label_detection(image=image)\n",
    "    labels = response.label_annotations\n",
    "\n",
    "    # Iterate through Vision API result\n",
    "    labelInd = 2 # skip the first two columns (index and file_name)\n",
    "    for ind, label in enumerate(labels):\n",
    "        if(ind<num_of_results): # Get first 5 results\n",
    "            label_row[labelInd] = label.description\n",
    "            labelInd += 1\n",
    "            label_row[labelInd] = label.score\n",
    "            labelInd += 1\n",
    "        else:\n",
    "            break\n",
    "\n",
    "    # Add label data for the image\n",
    "    label_results[index] = label_row\n",
    "\n",
    "    return label_results\n",
    "\n",
    "# Create columns for the label output\n",
    "label_columns = ['index', 'filename', 'label1', 'score1', 'label2', 'score2', 'label3', 'score3', 'label4', 'score4', 'label5', 'score5']\n",
    "\n",
    "files = os.listdir(im_dir)\n",
    "\n",
    "num_files = len(files)\n",
    "\n",
    "print(num_files, \"files found\")\n",
    "\n",
    "# Create placeholder for the data\n",
    "label_results = [None] * num_files\n",
    "\n",
    "for i in range(0, num_files-1, num_threads):\n",
    "    threads = []\n",
    "    for j in range(i, i + num_threads):\n",
    "        if j>(num_files-1):\n",
    "            break\n",
    "        # Create thread for processing the request\n",
    "        t = threading.Thread(target=process_request, args=(j, files[j], label_results))\n",
    "        threads.append(t)\n",
    "    [t.start() for t in threads]\n",
    "    [t.join() for t in threads]\n",
    "\n",
    "    print(i + len(threads), \"of\", num_files, \"processed\")\n",
    "\n",
    "    # Write the label result\n",
    "    with open(out_dir + label_out_name, \"a\") as output:\n",
    "        writer = csv.writer(output, delimiter=',')\n",
    "        if i == 0:\n",
    "            writer.writerow(kk for kk in label_columns)\n",
    "        for res in label_results[i:i+num_threads]:\n",
    "            writer.writerow(res)\n",
    "\n",
    "    print(\"Sleeping\")\n",
    "    time.sleep(sleep_time)"
   ]
  },
  {
   "cell_type": "code",
   "execution_count": null,
   "metadata": {},
   "outputs": [],
   "source": []
  }
 ],
 "metadata": {
  "kernelspec": {
   "display_name": "Python 3",
   "language": "python",
   "name": "python3"
  },
  "language_info": {
   "codemirror_mode": {
    "name": "ipython",
    "version": 3
   },
   "file_extension": ".py",
   "mimetype": "text/x-python",
   "name": "python",
   "nbconvert_exporter": "python",
   "pygments_lexer": "ipython3",
   "version": "3.7.6"
  }
 },
 "nbformat": 4,
 "nbformat_minor": 4
}
