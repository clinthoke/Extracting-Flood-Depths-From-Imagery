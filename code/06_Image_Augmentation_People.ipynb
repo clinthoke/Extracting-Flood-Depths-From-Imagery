{
 "cells": [
  {
   "cell_type": "markdown",
   "metadata": {},
   "source": [
    "# 06_Image_Augmentation: People \n",
    "\n",
    "To increase the number of training images, we can take the originals and \n",
    "- convert to black and white\n",
    "- rotate (up to 5 degrees)\n",
    "- flip horizontally\n",
    "- crop slightly\n",
    "\n",
    "This notebook was designed to extend the number of images in the original training set, but it can also be run on any user selected directory."
   ]
  },
  {
   "cell_type": "markdown",
   "metadata": {},
   "source": [
    "## Imports"
   ]
  },
  {
   "cell_type": "code",
   "execution_count": 1,
   "metadata": {},
   "outputs": [],
   "source": [
    "from PIL import Image, ImageEnhance\n",
    "import os\n",
    "import numpy as np"
   ]
  },
  {
   "cell_type": "markdown",
   "metadata": {},
   "source": [
    "## Global configuration settings"
   ]
  },
  {
   "cell_type": "code",
   "execution_count": 2,
   "metadata": {},
   "outputs": [],
   "source": [
    "# Set this to convert images in the lower directories\n",
    "base_dir = '../images/people'"
   ]
  },
  {
   "cell_type": "markdown",
   "metadata": {},
   "source": [
    "## Transformation functions"
   ]
  },
  {
   "cell_type": "code",
   "execution_count": 3,
   "metadata": {},
   "outputs": [],
   "source": [
    "# For reproducibility during development and testing, do not change this value.\n",
    "np.random.seed(2020)"
   ]
  },
  {
   "cell_type": "code",
   "execution_count": 4,
   "metadata": {},
   "outputs": [],
   "source": [
    "# Remove .DS_store from the list of files\n",
    "def rm_DS(mlist): \n",
    "    if ('.DS_Store' in mlist): mlist.remove('.DS_Store')\n",
    "    return mlist"
   ]
  },
  {
   "cell_type": "code",
   "execution_count": 5,
   "metadata": {},
   "outputs": [],
   "source": [
    "\n",
    "def make_hflip_version(path,fname):\n",
    "                \n",
    "    new_fname = 'hflip_' + fname\n",
    "    fullpath_start  = path + '/' + fname\n",
    "    fullpath_finish = path + '/' + new_fname\n",
    "    \n",
    "    start_img = Image.open(fullpath_start)\n",
    "    converted = start_img.transpose(method=Image.FLIP_LEFT_RIGHT)\n",
    "    converted.save(fullpath_finish)\n",
    "    start_img.close()\n",
    "    \n",
    "    return new_fname"
   ]
  },
  {
   "cell_type": "code",
   "execution_count": 6,
   "metadata": {},
   "outputs": [],
   "source": [
    "def make_bw_version(path,fname):\n",
    " \n",
    "    new_fname = 'bw_' + fname\n",
    "    fullpath_start  = path + '/' + fname\n",
    "    fullpath_finish = path + '/' + new_fname\n",
    "    \n",
    "    start_img = Image.open(fullpath_start)\n",
    "    converted = start_img.convert(mode='L')\n",
    "    converted .save(fullpath_finish)\n",
    "    start_img.close()\n",
    "    \n",
    "    return new_fname"
   ]
  },
  {
   "cell_type": "code",
   "execution_count": 7,
   "metadata": {},
   "outputs": [],
   "source": [
    "def make_rot_version(path,fname,rotation):\n",
    "            \n",
    "    new_fname = 'rot-'+ str(rotation) + '_' + fname\n",
    "    fullpath_start  = path + '/' + fname\n",
    "    fullpath_finish = path + '/' + new_fname\n",
    "    \n",
    "    start_img = Image.open(fullpath_start)\n",
    "    converted = start_img.rotate(rotation)\n",
    "    converted.save(fullpath_finish)\n",
    "    start_img.close()\n",
    "    \n",
    "    return new_fname"
   ]
  },
  {
   "cell_type": "code",
   "execution_count": 8,
   "metadata": {},
   "outputs": [],
   "source": [
    "def make_contrast_version(path,fname,factor):\n",
    "        \n",
    "    new_fname = 'con-'+ str(factor) + '_' + fname\n",
    "    fullpath_start  = path + '/' + fname\n",
    "    fullpath_finish = path + '/' + new_fname\n",
    "    \n",
    "    start_img = Image.open(fullpath_start)\n",
    "    converted = ImageEnhance.Contrast(start_img).enhance(factor)\n",
    "    converted.save(fullpath_finish)\n",
    "    start_img.close()\n",
    "    \n",
    "    return new_fname"
   ]
  },
  {
   "cell_type": "code",
   "execution_count": 9,
   "metadata": {},
   "outputs": [],
   "source": [
    "def make_crop_version(path,fname,factor):\n",
    "        \n",
    "    new_fname = 'crop-'+ str(factor) + '_' + fname\n",
    "    fullpath_start  = path + '/' + fname\n",
    "    fullpath_finish = path + '/' + new_fname\n",
    "    \n",
    "    start_img = Image.open(fullpath_start)\n",
    "    wid, ht = start_img.size\n",
    "    (left, upper, right, lower) = (0, 0, wid, ht*factor)\n",
    "    \n",
    "    converted = start_img.crop((left, upper, right, lower))\n",
    "    converted.save(fullpath_finish)\n",
    "    start_img.close()\n",
    "    \n",
    "    return new_fname"
   ]
  },
  {
   "cell_type": "code",
   "execution_count": 10,
   "metadata": {},
   "outputs": [],
   "source": [
    "def transform_all_in_dir(image_dir):\n",
    "    count_images = 0\n",
    "    \n",
    "    # get files in dir into a list; remove '.DS_Store'\n",
    "    image_list = rm_DS(os.listdir(image_dir))\n",
    "    \n",
    "    print(f\"...starting transform of {len(image_list)} images in {image_dir}\")\n",
    "    \n",
    "    # run transforms on the files in the list\n",
    "    for image in image_list: \n",
    "        count_images += 1\n",
    "\n",
    "        # Include BW versions to avoid training on color variation\n",
    "        make_bw_version(image_dir, image)\n",
    "\n",
    "        # Simple horizontal flip so that we don't inadvertently\n",
    "        #    train on left-facing are in shallow, right-facing are in deep, or similar\n",
    "        make_hflip_version(image_dir, image)\n",
    "\n",
    "        # Rotation of up to 5 degrees may account for handheld horizon variation in photos\n",
    "        cx = round(np.random.uniform(1,5),1)     \n",
    "        make_rot_version(image_dir, image, cx)\n",
    "\n",
    "        # Crops that retained less than 0.8 of the image were too extreme\n",
    "        cx = round(np.random.uniform(.8,.9),2)\n",
    "        make_crop_version(image_dir, image, cx)\n",
    "        \n",
    "    return count_images"
   ]
  },
  {
   "cell_type": "markdown",
   "metadata": {},
   "source": [
    "## Make Transforms"
   ]
  },
  {
   "cell_type": "code",
   "execution_count": 11,
   "metadata": {},
   "outputs": [
    {
     "data": {
      "text/plain": [
       "['../images/people/train/depth_0',\n",
       " '../images/people/train/depth_1',\n",
       " '../images/people/train/depth_2',\n",
       " '../images/people/train/depth_3',\n",
       " '../images/people/train/depth_4',\n",
       " '../images/people/validate/depth_0',\n",
       " '../images/people/validate/depth_1',\n",
       " '../images/people/validate/depth_2',\n",
       " '../images/people/validate/depth_3',\n",
       " '../images/people/validate/depth_4',\n",
       " '../images/people/test/depth_0',\n",
       " '../images/people/test/depth_1',\n",
       " '../images/people/test/depth_2',\n",
       " '../images/people/test/depth_3',\n",
       " '../images/people/test/depth_4']"
      ]
     },
     "execution_count": 11,
     "metadata": {},
     "output_type": "execute_result"
    }
   ],
   "source": [
    "# Make list of directories\n",
    "all_photos_dirs = []\n",
    "\n",
    "for topd in ['train','validate','test']:\n",
    "    for caty in ['depth_0','depth_1','depth_2','depth_3','depth_4']:\n",
    "        ndir = base_dir + '/' + topd + '/' + caty\n",
    "        all_photos_dirs.append(ndir)\n",
    "all_photos_dirs"
   ]
  },
  {
   "cell_type": "code",
   "execution_count": 12,
   "metadata": {},
   "outputs": [
    {
     "name": "stdout",
     "output_type": "stream",
     "text": [
      "...starting transform of 10 images in ../images/people/train/depth_0\n",
      "10 photos augmented in ../images/people/train/depth_0\n",
      "\n",
      "...starting transform of 12 images in ../images/people/train/depth_1\n",
      "12 photos augmented in ../images/people/train/depth_1\n",
      "\n",
      "...starting transform of 10 images in ../images/people/train/depth_2\n",
      "10 photos augmented in ../images/people/train/depth_2\n",
      "\n",
      "...starting transform of 11 images in ../images/people/train/depth_3\n",
      "11 photos augmented in ../images/people/train/depth_3\n",
      "\n",
      "...starting transform of 11 images in ../images/people/train/depth_4\n",
      "11 photos augmented in ../images/people/train/depth_4\n",
      "\n",
      "...starting transform of 7 images in ../images/people/validate/depth_0\n",
      "7 photos augmented in ../images/people/validate/depth_0\n",
      "\n",
      "...starting transform of 4 images in ../images/people/validate/depth_1\n",
      "4 photos augmented in ../images/people/validate/depth_1\n",
      "\n",
      "...starting transform of 6 images in ../images/people/validate/depth_2\n",
      "6 photos augmented in ../images/people/validate/depth_2\n",
      "\n",
      "...starting transform of 2 images in ../images/people/validate/depth_3\n",
      "2 photos augmented in ../images/people/validate/depth_3\n",
      "\n",
      "...starting transform of 3 images in ../images/people/validate/depth_4\n",
      "3 photos augmented in ../images/people/validate/depth_4\n",
      "\n",
      "...starting transform of 3 images in ../images/people/test/depth_0\n",
      "3 photos augmented in ../images/people/test/depth_0\n",
      "\n",
      "...starting transform of 3 images in ../images/people/test/depth_1\n",
      "3 photos augmented in ../images/people/test/depth_1\n",
      "\n",
      "...starting transform of 3 images in ../images/people/test/depth_2\n",
      "3 photos augmented in ../images/people/test/depth_2\n",
      "\n",
      "...starting transform of 4 images in ../images/people/test/depth_3\n",
      "4 photos augmented in ../images/people/test/depth_3\n",
      "\n",
      "...starting transform of 3 images in ../images/people/test/depth_4\n",
      "3 photos augmented in ../images/people/test/depth_4\n",
      "\n"
     ]
    }
   ],
   "source": [
    "# Call the augmentation routine for the images in the list\n",
    "for tdir in all_photos_dirs:\n",
    "    n = transform_all_in_dir(tdir)\n",
    "    print(f\"{n} photos augmented in {tdir}\\n\")"
   ]
  },
  {
   "cell_type": "code",
   "execution_count": 13,
   "metadata": {},
   "outputs": [
    {
     "name": "stdout",
     "output_type": "stream",
     "text": [
      "Additional image creation is complete.\n"
     ]
    }
   ],
   "source": [
    "print(\"Additional image creation is complete.\")"
   ]
  },
  {
   "cell_type": "code",
   "execution_count": null,
   "metadata": {},
   "outputs": [],
   "source": []
  }
 ],
 "metadata": {
  "kernelspec": {
   "display_name": "Python 3",
   "language": "python",
   "name": "python3"
  },
  "language_info": {
   "codemirror_mode": {
    "name": "ipython",
    "version": 3
   },
   "file_extension": ".py",
   "mimetype": "text/x-python",
   "name": "python",
   "nbconvert_exporter": "python",
   "pygments_lexer": "ipython3",
   "version": "3.7.6"
  }
 },
 "nbformat": 4,
 "nbformat_minor": 4
}
